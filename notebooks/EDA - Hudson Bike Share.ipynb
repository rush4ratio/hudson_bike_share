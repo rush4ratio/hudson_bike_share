{
 "cells": [
  {
   "cell_type": "code",
   "execution_count": 1,
   "metadata": {
    "collapsed": true
   },
   "outputs": [],
   "source": [
    "import pandas as pd\n",
    "import numpy as np\n",
    "import matplotlib.pyplot as plt"
   ]
  },
  {
   "cell_type": "code",
   "execution_count": 2,
   "metadata": {
    "collapsed": true
   },
   "outputs": [],
   "source": [
    "%matplotlib inline"
   ]
  },
  {
   "cell_type": "code",
   "execution_count": 79,
   "metadata": {
    "collapsed": true
   },
   "outputs": [],
   "source": [
    "plt.style.use('ggplot')"
   ]
  },
  {
   "cell_type": "code",
   "execution_count": 3,
   "metadata": {
    "collapsed": true
   },
   "outputs": [],
   "source": [
    "quarter_data = []\n",
    "for i in range(1,4+1):\n",
    "    quarter_data.append( pd.read_excel('../data/HBS_Q{}_2016_TripData.xlsx'.format(i)) )"
   ]
  },
  {
   "cell_type": "code",
   "execution_count": 4,
   "metadata": {},
   "outputs": [
    {
     "name": "stdout",
     "output_type": "stream",
     "text": [
      "<class 'pandas.core.frame.DataFrame'>\n",
      "RangeIndex: 13618 entries, 0 to 13617\n",
      "Data columns (total 9 columns):\n",
      "Trip id              13618 non-null int64\n",
      "Starttime            13618 non-null datetime64[ns]\n",
      "Stoptime             13618 non-null datetime64[ns]\n",
      "Bikeid               13618 non-null int64\n",
      "Tripduration         13618 non-null int64\n",
      "From station id      12092 non-null float64\n",
      "From station name    13617 non-null object\n",
      "To station id        11701 non-null float64\n",
      "To station name      13618 non-null object\n",
      "dtypes: datetime64[ns](2), float64(2), int64(3), object(2)\n",
      "memory usage: 957.6+ KB\n",
      "None\n",
      "\n",
      "<class 'pandas.core.frame.DataFrame'>\n",
      "RangeIndex: 39969 entries, 0 to 39968\n",
      "Data columns (total 9 columns):\n",
      "Trip id              39969 non-null int64\n",
      "Starttime            39969 non-null datetime64[ns]\n",
      "Stoptime             39969 non-null datetime64[ns]\n",
      "Bikeid               39969 non-null int64\n",
      "Tripduration         39969 non-null int64\n",
      "From station id      35649 non-null float64\n",
      "From station name    39968 non-null object\n",
      "To station id        34842 non-null float64\n",
      "To station name      39969 non-null object\n",
      "dtypes: datetime64[ns](2), float64(2), int64(3), object(2)\n",
      "memory usage: 2.7+ MB\n",
      "None\n",
      "\n",
      "<class 'pandas.core.frame.DataFrame'>\n",
      "RangeIndex: 58064 entries, 0 to 58063\n",
      "Data columns (total 9 columns):\n",
      "Trip id              58064 non-null int64\n",
      "Starttime            58064 non-null datetime64[ns]\n",
      "Stoptime             58064 non-null datetime64[ns]\n",
      "Bikeid               58064 non-null int64\n",
      "Tripduration         58064 non-null int64\n",
      "From station id      50441 non-null float64\n",
      "From station name    58064 non-null object\n",
      "To station id        49119 non-null float64\n",
      "To station name      58064 non-null object\n",
      "dtypes: datetime64[ns](2), float64(2), int64(3), object(2)\n",
      "memory usage: 4.0+ MB\n",
      "None\n",
      "\n",
      "<class 'pandas.core.frame.DataFrame'>\n",
      "RangeIndex: 39452 entries, 0 to 39451\n",
      "Data columns (total 9 columns):\n",
      "Trip id              39452 non-null int64\n",
      "Starttime            39452 non-null datetime64[ns]\n",
      "Stoptime             39452 non-null datetime64[ns]\n",
      "Bikeid               39452 non-null int64\n",
      "Tripduration         39452 non-null int64\n",
      "From station id      33542 non-null float64\n",
      "From station name    39451 non-null object\n",
      "To station id        32275 non-null float64\n",
      "To station name      39452 non-null object\n",
      "dtypes: datetime64[ns](2), float64(2), int64(3), object(2)\n",
      "memory usage: 2.7+ MB\n",
      "None\n",
      "\n"
     ]
    }
   ],
   "source": [
    "for q in quarter_data:\n",
    "    print(q.info(),end=\"\\n\\n\")"
   ]
  },
  {
   "cell_type": "code",
   "execution_count": 95,
   "metadata": {
    "collapsed": true
   },
   "outputs": [],
   "source": [
    "combined_data = pd.concat(quarter_data)"
   ]
  },
  {
   "cell_type": "code",
   "execution_count": 96,
   "metadata": {},
   "outputs": [
    {
     "data": {
      "text/plain": [
       "'151,103 observations'"
      ]
     },
     "execution_count": 96,
     "metadata": {},
     "output_type": "execute_result"
    }
   ],
   "source": [
    "\"{:,} observations\".format(len(combined_data))"
   ]
  },
  {
   "cell_type": "markdown",
   "metadata": {},
   "source": [
    "## Remove potential white space"
   ]
  },
  {
   "cell_type": "code",
   "execution_count": 97,
   "metadata": {},
   "outputs": [],
   "source": [
    "for col in combined_data.columns:\n",
    "    if combined_data[col].dtype == np.dtype('O'):\n",
    "        combined_data[col] = combined_data[col].apply(lambda x: str(x).strip())"
   ]
  },
  {
   "cell_type": "code",
   "execution_count": 98,
   "metadata": {},
   "outputs": [
    {
     "name": "stdout",
     "output_type": "stream",
     "text": [
      "<class 'pandas.core.frame.DataFrame'>\n",
      "Int64Index: 151103 entries, 0 to 39451\n",
      "Data columns (total 9 columns):\n",
      "Trip id              151103 non-null int64\n",
      "Starttime            151103 non-null datetime64[ns]\n",
      "Stoptime             151103 non-null datetime64[ns]\n",
      "Bikeid               151103 non-null int64\n",
      "Tripduration         151103 non-null int64\n",
      "From station id      131724 non-null float64\n",
      "From station name    151103 non-null object\n",
      "To station id        127937 non-null float64\n",
      "To station name      151103 non-null object\n",
      "dtypes: datetime64[ns](2), float64(2), int64(3), object(2)\n",
      "memory usage: 11.5+ MB\n"
     ]
    }
   ],
   "source": [
    "combined_data.info()"
   ]
  },
  {
   "cell_type": "markdown",
   "metadata": {},
   "source": [
    "## Ids should really be ints"
   ]
  },
  {
   "cell_type": "code",
   "execution_count": 137,
   "metadata": {},
   "outputs": [],
   "source": [
    "for col in ['From station id', 'To station id']:\n",
    "    combined_data[col] = combined_data[col].apply(lambda x: x if pd.isnull(x) else int(x))\n"
   ]
  },
  {
   "cell_type": "code",
   "execution_count": 138,
   "metadata": {},
   "outputs": [
    {
     "name": "stdout",
     "output_type": "stream",
     "text": [
      "<class 'pandas.core.frame.DataFrame'>\n",
      "Int64Index: 151103 entries, 0 to 39451\n",
      "Data columns (total 9 columns):\n",
      "Trip id              151103 non-null int64\n",
      "Starttime            151103 non-null datetime64[ns]\n",
      "Stoptime             151103 non-null datetime64[ns]\n",
      "Bikeid               151103 non-null int64\n",
      "Tripduration         151103 non-null int64\n",
      "From station id      131724 non-null float64\n",
      "From station name    151103 non-null object\n",
      "To station id        127937 non-null float64\n",
      "To station name      151103 non-null object\n",
      "dtypes: datetime64[ns](2), float64(2), int64(3), object(2)\n",
      "memory usage: 16.5+ MB\n"
     ]
    }
   ],
   "source": [
    "combined_data.info()"
   ]
  },
  {
   "cell_type": "markdown",
   "metadata": {},
   "source": [
    "## % of nulls"
   ]
  },
  {
   "cell_type": "code",
   "execution_count": 139,
   "metadata": {},
   "outputs": [
    {
     "data": {
      "text/plain": [
       "Trip id               0.000000\n",
       "Starttime             0.000000\n",
       "Stoptime              0.000000\n",
       "Bikeid                0.000000\n",
       "Tripduration          0.000000\n",
       "From station id      12.825027\n",
       "From station name     0.000000\n",
       "To station id        15.331264\n",
       "To station name       0.000000\n",
       "dtype: float64"
      ]
     },
     "execution_count": 139,
     "metadata": {},
     "output_type": "execute_result"
    }
   ],
   "source": [
    "combined_data.isnull().sum()/len(combined_data)*100"
   ]
  },
  {
   "cell_type": "code",
   "execution_count": 140,
   "metadata": {
    "collapsed": true
   },
   "outputs": [],
   "source": [
    "# combined_data.to_csv('../data/hbs_trip_data_2016.csv',index=False)"
   ]
  },
  {
   "cell_type": "code",
   "execution_count": 141,
   "metadata": {},
   "outputs": [
    {
     "data": {
      "text/html": [
       "<div>\n",
       "<style>\n",
       "    .dataframe thead tr:only-child th {\n",
       "        text-align: right;\n",
       "    }\n",
       "\n",
       "    .dataframe thead th {\n",
       "        text-align: left;\n",
       "    }\n",
       "\n",
       "    .dataframe tbody tr th {\n",
       "        vertical-align: top;\n",
       "    }\n",
       "</style>\n",
       "<table border=\"1\" class=\"dataframe\">\n",
       "  <thead>\n",
       "    <tr style=\"text-align: right;\">\n",
       "      <th></th>\n",
       "      <th>Trip id</th>\n",
       "      <th>Starttime</th>\n",
       "      <th>Stoptime</th>\n",
       "      <th>Bikeid</th>\n",
       "      <th>Tripduration</th>\n",
       "      <th>From station id</th>\n",
       "      <th>From station name</th>\n",
       "      <th>To station id</th>\n",
       "      <th>To station name</th>\n",
       "    </tr>\n",
       "  </thead>\n",
       "  <tbody>\n",
       "    <tr>\n",
       "      <th>0</th>\n",
       "      <td>15335543</td>\n",
       "      <td>2016-01-01 00:14:00</td>\n",
       "      <td>2016-01-01 00:19:00</td>\n",
       "      <td>73036</td>\n",
       "      <td>337</td>\n",
       "      <td>1922.0</td>\n",
       "      <td>Viaduct - Grand St &amp; 14th St</td>\n",
       "      <td>1903.0</td>\n",
       "      <td>14th St Ferry Terminal</td>\n",
       "    </tr>\n",
       "    <tr>\n",
       "      <th>1</th>\n",
       "      <td>15335544</td>\n",
       "      <td>2016-01-01 00:14:00</td>\n",
       "      <td>2016-01-01 00:20:00</td>\n",
       "      <td>73047</td>\n",
       "      <td>357</td>\n",
       "      <td>1922.0</td>\n",
       "      <td>Viaduct - Grand St &amp; 14th St</td>\n",
       "      <td>1903.0</td>\n",
       "      <td>14th St Ferry Terminal</td>\n",
       "    </tr>\n",
       "    <tr>\n",
       "      <th>2</th>\n",
       "      <td>15335607</td>\n",
       "      <td>2016-01-01 02:00:00</td>\n",
       "      <td>2016-01-01 02:16:00</td>\n",
       "      <td>73161</td>\n",
       "      <td>959</td>\n",
       "      <td>1909.0</td>\n",
       "      <td>Midtown - Clinton St &amp; 7th St</td>\n",
       "      <td>NaN</td>\n",
       "      <td>BIKE 73161</td>\n",
       "    </tr>\n",
       "    <tr>\n",
       "      <th>3</th>\n",
       "      <td>15335608</td>\n",
       "      <td>2016-01-01 02:01:00</td>\n",
       "      <td>2016-01-01 02:20:00</td>\n",
       "      <td>73124</td>\n",
       "      <td>1122</td>\n",
       "      <td>1909.0</td>\n",
       "      <td>Midtown - Clinton St &amp; 7th St</td>\n",
       "      <td>NaN</td>\n",
       "      <td>BIKE 73124</td>\n",
       "    </tr>\n",
       "    <tr>\n",
       "      <th>4</th>\n",
       "      <td>15335613</td>\n",
       "      <td>2016-01-01 02:16:00</td>\n",
       "      <td>2016-01-01 02:22:00</td>\n",
       "      <td>73014</td>\n",
       "      <td>325</td>\n",
       "      <td>1926.0</td>\n",
       "      <td>Lower Madison - Madison St &amp; 1st St</td>\n",
       "      <td>1926.0</td>\n",
       "      <td>Lower Madison - Madison St &amp; 1st St</td>\n",
       "    </tr>\n",
       "  </tbody>\n",
       "</table>\n",
       "</div>"
      ],
      "text/plain": [
       "    Trip id           Starttime            Stoptime  Bikeid  Tripduration  \\\n",
       "0  15335543 2016-01-01 00:14:00 2016-01-01 00:19:00   73036           337   \n",
       "1  15335544 2016-01-01 00:14:00 2016-01-01 00:20:00   73047           357   \n",
       "2  15335607 2016-01-01 02:00:00 2016-01-01 02:16:00   73161           959   \n",
       "3  15335608 2016-01-01 02:01:00 2016-01-01 02:20:00   73124          1122   \n",
       "4  15335613 2016-01-01 02:16:00 2016-01-01 02:22:00   73014           325   \n",
       "\n",
       "   From station id                    From station name  To station id  \\\n",
       "0           1922.0         Viaduct - Grand St & 14th St         1903.0   \n",
       "1           1922.0         Viaduct - Grand St & 14th St         1903.0   \n",
       "2           1909.0        Midtown - Clinton St & 7th St            NaN   \n",
       "3           1909.0        Midtown - Clinton St & 7th St            NaN   \n",
       "4           1926.0  Lower Madison - Madison St & 1st St         1926.0   \n",
       "\n",
       "                       To station name  \n",
       "0               14th St Ferry Terminal  \n",
       "1               14th St Ferry Terminal  \n",
       "2                           BIKE 73161  \n",
       "3                           BIKE 73124  \n",
       "4  Lower Madison - Madison St & 1st St  "
      ]
     },
     "execution_count": 141,
     "metadata": {},
     "output_type": "execute_result"
    }
   ],
   "source": [
    "combined_data.head()"
   ]
  },
  {
   "cell_type": "code",
   "execution_count": 142,
   "metadata": {},
   "outputs": [
    {
     "data": {
      "text/plain": [
       "Timedelta('0 days 00:05:00')"
      ]
     },
     "execution_count": 142,
     "metadata": {},
     "output_type": "execute_result"
    }
   ],
   "source": [
    "combined_data.iloc[0]['Stoptime'] - combined_data.iloc[0]['Starttime']"
   ]
  },
  {
   "cell_type": "code",
   "execution_count": 143,
   "metadata": {},
   "outputs": [
    {
     "data": {
      "text/plain": [
       "count    1.511030e+05\n",
       "mean     1.957190e+03\n",
       "std      1.795789e+04\n",
       "min      1.000000e+00\n",
       "25%      3.760000e+02\n",
       "50%      5.270000e+02\n",
       "75%      8.030000e+02\n",
       "max      1.989695e+06\n",
       "Name: Tripduration, dtype: float64"
      ]
     },
     "execution_count": 143,
     "metadata": {},
     "output_type": "execute_result"
    }
   ],
   "source": [
    "combined_data.Tripduration.describe()"
   ]
  },
  {
   "cell_type": "markdown",
   "metadata": {},
   "source": [
    "### From, https://hudsonbikeshare.com/data/, a valid trip is, \"...any rental longer than a minute that begins and ends at a valid Hudson Bike Share station.\""
   ]
  },
  {
   "cell_type": "code",
   "execution_count": 144,
   "metadata": {},
   "outputs": [
    {
     "data": {
      "text/plain": [
       "<matplotlib.text.Text at 0x134d8b5f8>"
      ]
     },
     "execution_count": 144,
     "metadata": {},
     "output_type": "execute_result"
    },
    {
     "data": {
      "image/png": "[encoded data removed]",
      "text/plain": [
       "<matplotlib.figure.Figure at 0x117e2dda0>"
      ]
     },
     "metadata": {},
     "output_type": "display_data"
    }
   ],
   "source": [
    "diff_time = (combined_data.Stoptime - combined_data.Starttime)\n",
    "diff_time = diff_time.apply(lambda x: x.total_seconds()/60)\n",
    "ax1= diff_time.plot(kind='hist',bins=100, figsize=(14,6))\n",
    "ax1.set_xlabel('Minutes')\n",
    "ax1.set_title('Stoptime - Starttime')"
   ]
  },
  {
   "cell_type": "markdown",
   "metadata": {},
   "source": [
    "### Better to use the trip duration variable"
   ]
  },
  {
   "cell_type": "code",
   "execution_count": 145,
   "metadata": {},
   "outputs": [
    {
     "data": {
      "text/plain": [
       "<matplotlib.text.Text at 0x11887fbe0>"
      ]
     },
     "execution_count": 145,
     "metadata": {},
     "output_type": "execute_result"
    },
    {
     "data": {
      "image/png": "[encoded data removed]",
      "text/plain": [
       "<matplotlib.figure.Figure at 0x11841bf28>"
      ]
     },
     "metadata": {},
     "output_type": "display_data"
    }
   ],
   "source": [
    "ax2 = combined_data.Tripduration.apply(lambda x: x/60).plot(kind='hist', figsize=(14,6))\n",
    "ax2.set_xlabel('Minutes')\n"
   ]
  },
  {
   "cell_type": "markdown",
   "metadata": {},
   "source": [
    "## In minutes"
   ]
  },
  {
   "cell_type": "code",
   "execution_count": 146,
   "metadata": {},
   "outputs": [
    {
     "data": {
      "image/png": "[encoded data removed]",
      "text/plain": [
       "<matplotlib.figure.Figure at 0x11962f320>"
      ]
     },
     "metadata": {},
     "output_type": "display_data"
    }
   ],
   "source": [
    "plt.boxplot(combined_data['Tripduration']/60)\n",
    "plt.show()"
   ]
  },
  {
   "cell_type": "code",
   "execution_count": 147,
   "metadata": {},
   "outputs": [
    {
     "data": {
      "text/html": [
       "<div>\n",
       "<style>\n",
       "    .dataframe thead tr:only-child th {\n",
       "        text-align: right;\n",
       "    }\n",
       "\n",
       "    .dataframe thead th {\n",
       "        text-align: left;\n",
       "    }\n",
       "\n",
       "    .dataframe tbody tr th {\n",
       "        vertical-align: top;\n",
       "    }\n",
       "</style>\n",
       "<table border=\"1\" class=\"dataframe\">\n",
       "  <thead>\n",
       "    <tr style=\"text-align: right;\">\n",
       "      <th></th>\n",
       "      <th>Trip id</th>\n",
       "      <th>Starttime</th>\n",
       "      <th>Stoptime</th>\n",
       "      <th>Bikeid</th>\n",
       "      <th>Tripduration</th>\n",
       "      <th>From station id</th>\n",
       "      <th>From station name</th>\n",
       "      <th>To station id</th>\n",
       "      <th>To station name</th>\n",
       "    </tr>\n",
       "  </thead>\n",
       "  <tbody>\n",
       "    <tr>\n",
       "      <th>0</th>\n",
       "      <td>15335543</td>\n",
       "      <td>2016-01-01 00:14:00</td>\n",
       "      <td>2016-01-01 00:19:00</td>\n",
       "      <td>73036</td>\n",
       "      <td>337</td>\n",
       "      <td>1922.0</td>\n",
       "      <td>Viaduct - Grand St &amp; 14th St</td>\n",
       "      <td>1903.0</td>\n",
       "      <td>14th St Ferry Terminal</td>\n",
       "    </tr>\n",
       "    <tr>\n",
       "      <th>1</th>\n",
       "      <td>15335544</td>\n",
       "      <td>2016-01-01 00:14:00</td>\n",
       "      <td>2016-01-01 00:20:00</td>\n",
       "      <td>73047</td>\n",
       "      <td>357</td>\n",
       "      <td>1922.0</td>\n",
       "      <td>Viaduct - Grand St &amp; 14th St</td>\n",
       "      <td>1903.0</td>\n",
       "      <td>14th St Ferry Terminal</td>\n",
       "    </tr>\n",
       "    <tr>\n",
       "      <th>2</th>\n",
       "      <td>15335607</td>\n",
       "      <td>2016-01-01 02:00:00</td>\n",
       "      <td>2016-01-01 02:16:00</td>\n",
       "      <td>73161</td>\n",
       "      <td>959</td>\n",
       "      <td>1909.0</td>\n",
       "      <td>Midtown - Clinton St &amp; 7th St</td>\n",
       "      <td>NaN</td>\n",
       "      <td>BIKE 73161</td>\n",
       "    </tr>\n",
       "    <tr>\n",
       "      <th>3</th>\n",
       "      <td>15335608</td>\n",
       "      <td>2016-01-01 02:01:00</td>\n",
       "      <td>2016-01-01 02:20:00</td>\n",
       "      <td>73124</td>\n",
       "      <td>1122</td>\n",
       "      <td>1909.0</td>\n",
       "      <td>Midtown - Clinton St &amp; 7th St</td>\n",
       "      <td>NaN</td>\n",
       "      <td>BIKE 73124</td>\n",
       "    </tr>\n",
       "    <tr>\n",
       "      <th>4</th>\n",
       "      <td>15335613</td>\n",
       "      <td>2016-01-01 02:16:00</td>\n",
       "      <td>2016-01-01 02:22:00</td>\n",
       "      <td>73014</td>\n",
       "      <td>325</td>\n",
       "      <td>1926.0</td>\n",
       "      <td>Lower Madison - Madison St &amp; 1st St</td>\n",
       "      <td>1926.0</td>\n",
       "      <td>Lower Madison - Madison St &amp; 1st St</td>\n",
       "    </tr>\n",
       "  </tbody>\n",
       "</table>\n",
       "</div>"
      ],
      "text/plain": [
       "    Trip id           Starttime            Stoptime  Bikeid  Tripduration  \\\n",
       "0  15335543 2016-01-01 00:14:00 2016-01-01 00:19:00   73036           337   \n",
       "1  15335544 2016-01-01 00:14:00 2016-01-01 00:20:00   73047           357   \n",
       "2  15335607 2016-01-01 02:00:00 2016-01-01 02:16:00   73161           959   \n",
       "3  15335608 2016-01-01 02:01:00 2016-01-01 02:20:00   73124          1122   \n",
       "4  15335613 2016-01-01 02:16:00 2016-01-01 02:22:00   73014           325   \n",
       "\n",
       "   From station id                    From station name  To station id  \\\n",
       "0           1922.0         Viaduct - Grand St & 14th St         1903.0   \n",
       "1           1922.0         Viaduct - Grand St & 14th St         1903.0   \n",
       "2           1909.0        Midtown - Clinton St & 7th St            NaN   \n",
       "3           1909.0        Midtown - Clinton St & 7th St            NaN   \n",
       "4           1926.0  Lower Madison - Madison St & 1st St         1926.0   \n",
       "\n",
       "                       To station name  \n",
       "0               14th St Ferry Terminal  \n",
       "1               14th St Ferry Terminal  \n",
       "2                           BIKE 73161  \n",
       "3                           BIKE 73124  \n",
       "4  Lower Madison - Madison St & 1st St  "
      ]
     },
     "execution_count": 147,
     "metadata": {},
     "output_type": "execute_result"
    }
   ],
   "source": [
    "combined_data.head()"
   ]
  },
  {
   "cell_type": "markdown",
   "metadata": {
    "collapsed": true
   },
   "source": [
    "## Based on Bike ids, how many bikes do we have?"
   ]
  },
  {
   "cell_type": "code",
   "execution_count": 148,
   "metadata": {},
   "outputs": [
    {
     "data": {
      "text/plain": [
       "245"
      ]
     },
     "execution_count": 148,
     "metadata": {},
     "output_type": "execute_result"
    }
   ],
   "source": [
    "len(combined_data.Bikeid.unique())"
   ]
  },
  {
   "cell_type": "markdown",
   "metadata": {},
   "source": [
    "## And station names?"
   ]
  },
  {
   "cell_type": "code",
   "execution_count": 149,
   "metadata": {},
   "outputs": [
    {
     "data": {
      "text/plain": [
       "3145"
      ]
     },
     "execution_count": 149,
     "metadata": {},
     "output_type": "execute_result"
    }
   ],
   "source": [
    "len(combined_data['From station name'].unique())"
   ]
  },
  {
   "cell_type": "code",
   "execution_count": 150,
   "metadata": {},
   "outputs": [
    {
     "data": {
      "text/plain": [
       "array(['Viaduct - Grand St & 14th St', 'Midtown - Clinton St & 7th St',\n",
       "       'Lower Madison - Madison St & 1st St', 'Hoboken Terminal - Part 1',\n",
       "       '14th St Ferry Terminal', 'City Hall - 1st St & Washington St',\n",
       "       'BIKE 73002', 'Birthplace of Baseball - Washington St & 11th St',\n",
       "       'BIKE 73222', 'BIKE 73214'], dtype=object)"
      ]
     },
     "execution_count": 150,
     "metadata": {},
     "output_type": "execute_result"
    }
   ],
   "source": [
    "combined_data['From station name'].unique()[:10]"
   ]
  },
  {
   "cell_type": "markdown",
   "metadata": {},
   "source": [
    "Ok bike names are not station names"
   ]
  },
  {
   "cell_type": "markdown",
   "metadata": {},
   "source": [
    "This is more realistic"
   ]
  },
  {
   "cell_type": "code",
   "execution_count": 151,
   "metadata": {},
   "outputs": [
    {
     "data": {
      "text/plain": [
       "44"
      ]
     },
     "execution_count": 151,
     "metadata": {},
     "output_type": "execute_result"
    }
   ],
   "source": [
    "len(combined_data['From station id'].unique())"
   ]
  },
  {
   "cell_type": "code",
   "execution_count": 152,
   "metadata": {},
   "outputs": [
    {
     "data": {
      "text/plain": [
       "[40, 36, 13, 41, 26]"
      ]
     },
     "execution_count": 152,
     "metadata": {},
     "output_type": "execute_result"
    }
   ],
   "source": [
    "rand_stations = [np.random.randint(44) for i in range(5)]\n",
    "rand_stations"
   ]
  },
  {
   "cell_type": "code",
   "execution_count": 153,
   "metadata": {},
   "outputs": [
    {
     "data": {
      "text/plain": [
       "array([ 1949.,  1924.,  1912.,  5516.,  1941.])"
      ]
     },
     "execution_count": 153,
     "metadata": {},
     "output_type": "execute_result"
    }
   ],
   "source": [
    "combined_data['From station id'].unique()[rand_stations]"
   ]
  },
  {
   "cell_type": "code",
   "execution_count": 154,
   "metadata": {},
   "outputs": [
    {
     "data": {
      "text/plain": [
       "46"
      ]
     },
     "execution_count": 154,
     "metadata": {},
     "output_type": "execute_result"
    }
   ],
   "source": [
    "len(combined_data['To station id'].unique())"
   ]
  },
  {
   "cell_type": "markdown",
   "metadata": {},
   "source": [
    "## Why are there two more stations in *To station ids*  than *From station ids*?"
   ]
  },
  {
   "cell_type": "code",
   "execution_count": 155,
   "metadata": {},
   "outputs": [],
   "source": [
    "from_stations = set(combined_data['From station id'].unique())\n",
    "to_stations = set(combined_data['To station id'].unique())"
   ]
  },
  {
   "cell_type": "code",
   "execution_count": 156,
   "metadata": {},
   "outputs": [
    {
     "data": {
      "text/plain": [
       "(44, 46)"
      ]
     },
     "execution_count": 156,
     "metadata": {},
     "output_type": "execute_result"
    }
   ],
   "source": [
    "len(from_stations), len(to_stations)"
   ]
  },
  {
   "cell_type": "code",
   "execution_count": 157,
   "metadata": {},
   "outputs": [
    {
     "data": {
      "text/plain": [
       "{nan, 1932.0, 5555.0, 6566.0}"
      ]
     },
     "execution_count": 157,
     "metadata": {},
     "output_type": "execute_result"
    }
   ],
   "source": [
    "to_stations - from_stations"
   ]
  },
  {
   "cell_type": "code",
   "execution_count": 158,
   "metadata": {},
   "outputs": [
    {
     "data": {
      "text/plain": [
       "{nan, 5516.0}"
      ]
     },
     "execution_count": 158,
     "metadata": {},
     "output_type": "execute_result"
    }
   ],
   "source": [
    "from_stations - to_stations"
   ]
  },
  {
   "cell_type": "markdown",
   "metadata": {},
   "source": [
    "## 5555, 6566, 5516 are suspicious station ids. Do they really exist?"
   ]
  },
  {
   "cell_type": "code",
   "execution_count": 161,
   "metadata": {},
   "outputs": [
    {
     "data": {
      "text/html": [
       "<div>\n",
       "<style>\n",
       "    .dataframe thead tr:only-child th {\n",
       "        text-align: right;\n",
       "    }\n",
       "\n",
       "    .dataframe thead th {\n",
       "        text-align: left;\n",
       "    }\n",
       "\n",
       "    .dataframe tbody tr th {\n",
       "        vertical-align: top;\n",
       "    }\n",
       "</style>\n",
       "<table border=\"1\" class=\"dataframe\">\n",
       "  <thead>\n",
       "    <tr style=\"text-align: right;\">\n",
       "      <th></th>\n",
       "      <th>Trip id</th>\n",
       "      <th>Starttime</th>\n",
       "      <th>Stoptime</th>\n",
       "      <th>Bikeid</th>\n",
       "      <th>Tripduration</th>\n",
       "      <th>From station id</th>\n",
       "      <th>From station name</th>\n",
       "      <th>To station id</th>\n",
       "      <th>To station name</th>\n",
       "    </tr>\n",
       "  </thead>\n",
       "  <tbody>\n",
       "    <tr>\n",
       "      <th>7271</th>\n",
       "      <td>15626456</td>\n",
       "      <td>2016-03-05 12:55:00</td>\n",
       "      <td>2016-03-05 14:08:00</td>\n",
       "      <td>73170</td>\n",
       "      <td>4428</td>\n",
       "      <td>1929.0</td>\n",
       "      <td>Carepoint Health</td>\n",
       "      <td>1932.0</td>\n",
       "      <td>Liberty State Park South No Fee Zone (Virtual)</td>\n",
       "    </tr>\n",
       "  </tbody>\n",
       "</table>\n",
       "</div>"
      ],
      "text/plain": [
       "       Trip id           Starttime            Stoptime  Bikeid  Tripduration  \\\n",
       "7271  15626456 2016-03-05 12:55:00 2016-03-05 14:08:00   73170          4428   \n",
       "\n",
       "      From station id From station name  To station id  \\\n",
       "7271           1929.0  Carepoint Health         1932.0   \n",
       "\n",
       "                                     To station name  \n",
       "7271  Liberty State Park South No Fee Zone (Virtual)  "
      ]
     },
     "execution_count": 161,
     "metadata": {},
     "output_type": "execute_result"
    }
   ],
   "source": [
    "combined_data[combined_data['To station id'] == 1932]"
   ]
  },
  {
   "cell_type": "code",
   "execution_count": 163,
   "metadata": {},
   "outputs": [
    {
     "data": {
      "text/html": [
       "<div>\n",
       "<style>\n",
       "    .dataframe thead tr:only-child th {\n",
       "        text-align: right;\n",
       "    }\n",
       "\n",
       "    .dataframe thead th {\n",
       "        text-align: left;\n",
       "    }\n",
       "\n",
       "    .dataframe tbody tr th {\n",
       "        vertical-align: top;\n",
       "    }\n",
       "</style>\n",
       "<table border=\"1\" class=\"dataframe\">\n",
       "  <thead>\n",
       "    <tr style=\"text-align: right;\">\n",
       "      <th></th>\n",
       "      <th>Trip id</th>\n",
       "      <th>Starttime</th>\n",
       "      <th>Stoptime</th>\n",
       "      <th>Bikeid</th>\n",
       "      <th>Tripduration</th>\n",
       "      <th>From station id</th>\n",
       "      <th>From station name</th>\n",
       "      <th>To station id</th>\n",
       "      <th>To station name</th>\n",
       "    </tr>\n",
       "  </thead>\n",
       "  <tbody>\n",
       "    <tr>\n",
       "      <th>9371</th>\n",
       "      <td>16825032</td>\n",
       "      <td>2016-04-28 08:46:00</td>\n",
       "      <td>2016-04-28 08:55:00</td>\n",
       "      <td>73033</td>\n",
       "      <td>505</td>\n",
       "      <td>1912.0</td>\n",
       "      <td>9th St HBLR Station - 8th St &amp; Jackson St</td>\n",
       "      <td>6566.0</td>\n",
       "      <td>Ordu Demonstation</td>\n",
       "    </tr>\n",
       "    <tr>\n",
       "      <th>5141</th>\n",
       "      <td>20643676</td>\n",
       "      <td>2016-07-10 11:14:00</td>\n",
       "      <td>2016-07-16 09:28:00</td>\n",
       "      <td>73251</td>\n",
       "      <td>512042</td>\n",
       "      <td>5516.0</td>\n",
       "      <td>Zweirad - Awe Strandpromenade √úckeritz 5516</td>\n",
       "      <td>5555.0</td>\n",
       "      <td>Usedom Rad GmbH Zentrale 5555</td>\n",
       "    </tr>\n",
       "  </tbody>\n",
       "</table>\n",
       "</div>"
      ],
      "text/plain": [
       "       Trip id           Starttime            Stoptime  Bikeid  Tripduration  \\\n",
       "9371  16825032 2016-04-28 08:46:00 2016-04-28 08:55:00   73033           505   \n",
       "5141  20643676 2016-07-10 11:14:00 2016-07-16 09:28:00   73251        512042   \n",
       "\n",
       "      From station id                             From station name  \\\n",
       "9371           1912.0     9th St HBLR Station - 8th St & Jackson St   \n",
       "5141           5516.0  Zweirad - Awe Strandpromenade √úckeritz 5516   \n",
       "\n",
       "      To station id                To station name  \n",
       "9371         6566.0              Ordu Demonstation  \n",
       "5141         5555.0  Usedom Rad GmbH Zentrale 5555  "
      ]
     },
     "execution_count": 163,
     "metadata": {},
     "output_type": "execute_result"
    }
   ],
   "source": [
    "combined_data[combined_data['To station id'].apply(lambda x: x in [5555,6566])]"
   ]
  },
  {
   "cell_type": "code",
   "execution_count": 164,
   "metadata": {
    "scrolled": true
   },
   "outputs": [
    {
     "data": {
      "text/html": [
       "<div>\n",
       "<style>\n",
       "    .dataframe thead tr:only-child th {\n",
       "        text-align: right;\n",
       "    }\n",
       "\n",
       "    .dataframe thead th {\n",
       "        text-align: left;\n",
       "    }\n",
       "\n",
       "    .dataframe tbody tr th {\n",
       "        vertical-align: top;\n",
       "    }\n",
       "</style>\n",
       "<table border=\"1\" class=\"dataframe\">\n",
       "  <thead>\n",
       "    <tr style=\"text-align: right;\">\n",
       "      <th></th>\n",
       "      <th>Trip id</th>\n",
       "      <th>Starttime</th>\n",
       "      <th>Stoptime</th>\n",
       "      <th>Bikeid</th>\n",
       "      <th>Tripduration</th>\n",
       "      <th>From station id</th>\n",
       "      <th>From station name</th>\n",
       "      <th>To station id</th>\n",
       "      <th>To station name</th>\n",
       "    </tr>\n",
       "  </thead>\n",
       "  <tbody>\n",
       "    <tr>\n",
       "      <th>5141</th>\n",
       "      <td>20643676</td>\n",
       "      <td>2016-07-10 11:14:00</td>\n",
       "      <td>2016-07-16 09:28:00</td>\n",
       "      <td>73251</td>\n",
       "      <td>512042</td>\n",
       "      <td>5516.0</td>\n",
       "      <td>Zweirad - Awe Strandpromenade √úckeritz 5516</td>\n",
       "      <td>5555.0</td>\n",
       "      <td>Usedom Rad GmbH Zentrale 5555</td>\n",
       "    </tr>\n",
       "  </tbody>\n",
       "</table>\n",
       "</div>"
      ],
      "text/plain": [
       "       Trip id           Starttime            Stoptime  Bikeid  Tripduration  \\\n",
       "5141  20643676 2016-07-10 11:14:00 2016-07-16 09:28:00   73251        512042   \n",
       "\n",
       "      From station id                             From station name  \\\n",
       "5141           5516.0  Zweirad - Awe Strandpromenade √úckeritz 5516   \n",
       "\n",
       "      To station id                To station name  \n",
       "5141         5555.0  Usedom Rad GmbH Zentrale 5555  "
      ]
     },
     "execution_count": 164,
     "metadata": {},
     "output_type": "execute_result"
    }
   ],
   "source": [
    "combined_data[combined_data['From station id'] == 5516]"
   ]
  },
  {
   "cell_type": "markdown",
   "metadata": {},
   "source": [
    "**Usedom Rad GmbH Zentrale** and **Ordu Demonstration** are probably  places in Germany. As for, **Liberty State Park South No Fee Zone **,  it maybe valid, but one could consider dropping these variables."
   ]
  },
  {
   "cell_type": "markdown",
   "metadata": {},
   "source": [
    "### Are there observations whose trip durations are greater than 1 day?"
   ]
  },
  {
   "cell_type": "code",
   "execution_count": 170,
   "metadata": {
    "scrolled": true
   },
   "outputs": [
    {
     "data": {
      "text/plain": [
       "318"
      ]
     },
     "execution_count": 170,
     "metadata": {},
     "output_type": "execute_result"
    }
   ],
   "source": [
    "sum(combined_data.Tripduration > (24 * 60 * 60))"
   ]
  },
  {
   "cell_type": "code",
   "execution_count": 173,
   "metadata": {
    "scrolled": false
   },
   "outputs": [
    {
     "data": {
      "text/html": [
       "<div>\n",
       "<style>\n",
       "    .dataframe thead tr:only-child th {\n",
       "        text-align: right;\n",
       "    }\n",
       "\n",
       "    .dataframe thead th {\n",
       "        text-align: left;\n",
       "    }\n",
       "\n",
       "    .dataframe tbody tr th {\n",
       "        vertical-align: top;\n",
       "    }\n",
       "</style>\n",
       "<table border=\"1\" class=\"dataframe\">\n",
       "  <thead>\n",
       "    <tr style=\"text-align: right;\">\n",
       "      <th></th>\n",
       "      <th>Trip id</th>\n",
       "      <th>Starttime</th>\n",
       "      <th>Stoptime</th>\n",
       "      <th>Bikeid</th>\n",
       "      <th>Tripduration</th>\n",
       "      <th>From station id</th>\n",
       "      <th>From station name</th>\n",
       "      <th>To station id</th>\n",
       "      <th>To station name</th>\n",
       "    </tr>\n",
       "  </thead>\n",
       "  <tbody>\n",
       "    <tr>\n",
       "      <th>8</th>\n",
       "      <td>15336135</td>\n",
       "      <td>2016-01-01 09:34:00</td>\n",
       "      <td>2016-01-02 10:45:00</td>\n",
       "      <td>73113</td>\n",
       "      <td>90638</td>\n",
       "      <td>1916.0</td>\n",
       "      <td>City Hall - 1st St &amp; Washington St</td>\n",
       "      <td>1916.0</td>\n",
       "      <td>City Hall - 1st St &amp; Washington St</td>\n",
       "    </tr>\n",
       "    <tr>\n",
       "      <th>26</th>\n",
       "      <td>15336549</td>\n",
       "      <td>2016-01-01 13:09:00</td>\n",
       "      <td>2016-01-03 15:32:00</td>\n",
       "      <td>73041</td>\n",
       "      <td>181423</td>\n",
       "      <td>1909.0</td>\n",
       "      <td>Midtown - Clinton St &amp; 7th St</td>\n",
       "      <td>1900.0</td>\n",
       "      <td>Hoboken Terminal - Part 1</td>\n",
       "    </tr>\n",
       "    <tr>\n",
       "      <th>1162</th>\n",
       "      <td>15364624</td>\n",
       "      <td>2016-01-09 22:31:00</td>\n",
       "      <td>2016-01-13 16:27:00</td>\n",
       "      <td>73028</td>\n",
       "      <td>323770</td>\n",
       "      <td>1926.0</td>\n",
       "      <td>Lower Madison - Madison St &amp; 1st St</td>\n",
       "      <td>1926.0</td>\n",
       "      <td>Lower Madison - Madison St &amp; 1st St</td>\n",
       "    </tr>\n",
       "    <tr>\n",
       "      <th>1852</th>\n",
       "      <td>15389050</td>\n",
       "      <td>2016-01-15 10:44:00</td>\n",
       "      <td>2016-01-17 10:46:00</td>\n",
       "      <td>73173</td>\n",
       "      <td>172903</td>\n",
       "      <td>1926.0</td>\n",
       "      <td>Lower Madison - Madison St &amp; 1st St</td>\n",
       "      <td>1926.0</td>\n",
       "      <td>Lower Madison - Madison St &amp; 1st St</td>\n",
       "    </tr>\n",
       "    <tr>\n",
       "      <th>1929</th>\n",
       "      <td>15390598</td>\n",
       "      <td>2016-01-15 18:13:00</td>\n",
       "      <td>2016-01-16 19:01:00</td>\n",
       "      <td>73206</td>\n",
       "      <td>89271</td>\n",
       "      <td>1900.0</td>\n",
       "      <td>Hoboken Terminal - Part 1</td>\n",
       "      <td>NaN</td>\n",
       "      <td>park + garden - Garden St &amp; 15th St</td>\n",
       "    </tr>\n",
       "    <tr>\n",
       "      <th>2101</th>\n",
       "      <td>15393891</td>\n",
       "      <td>2016-01-16 19:04:00</td>\n",
       "      <td>2016-01-20 15:27:00</td>\n",
       "      <td>73145</td>\n",
       "      <td>332604</td>\n",
       "      <td>1902.0</td>\n",
       "      <td>Pier A Park</td>\n",
       "      <td>1902.0</td>\n",
       "      <td>Pier A Park</td>\n",
       "    </tr>\n",
       "    <tr>\n",
       "      <th>2347</th>\n",
       "      <td>15407572</td>\n",
       "      <td>2016-01-20 10:15:00</td>\n",
       "      <td>2016-01-22 09:16:00</td>\n",
       "      <td>73041</td>\n",
       "      <td>169297</td>\n",
       "      <td>1922.0</td>\n",
       "      <td>Viaduct - Grand St &amp; 14th St</td>\n",
       "      <td>1922.0</td>\n",
       "      <td>Viaduct - Grand St &amp; 14th St</td>\n",
       "    </tr>\n",
       "    <tr>\n",
       "      <th>2595</th>\n",
       "      <td>15415854</td>\n",
       "      <td>2016-01-22 07:31:00</td>\n",
       "      <td>2016-01-26 16:01:00</td>\n",
       "      <td>73157</td>\n",
       "      <td>376240</td>\n",
       "      <td>1920.0</td>\n",
       "      <td>Birthplace of Baseball - Washington St &amp; 11th St</td>\n",
       "      <td>1903.0</td>\n",
       "      <td>14th St Ferry Terminal</td>\n",
       "    </tr>\n",
       "    <tr>\n",
       "      <th>2623</th>\n",
       "      <td>15417297</td>\n",
       "      <td>2016-01-22 12:15:00</td>\n",
       "      <td>2016-01-28 20:07:00</td>\n",
       "      <td>73115</td>\n",
       "      <td>546757</td>\n",
       "      <td>1925.0</td>\n",
       "      <td>Upper Madison - Madison St &amp; 10th St</td>\n",
       "      <td>NaN</td>\n",
       "      <td>Industrial Road 334</td>\n",
       "    </tr>\n",
       "    <tr>\n",
       "      <th>2624</th>\n",
       "      <td>15417298</td>\n",
       "      <td>2016-01-22 12:15:00</td>\n",
       "      <td>2016-02-01 12:52:00</td>\n",
       "      <td>73141</td>\n",
       "      <td>866245</td>\n",
       "      <td>1900.0</td>\n",
       "      <td>Hoboken Terminal - Part 1</td>\n",
       "      <td>1999.0</td>\n",
       "      <td>Hoboken STORAGE</td>\n",
       "    </tr>\n",
       "  </tbody>\n",
       "</table>\n",
       "</div>"
      ],
      "text/plain": [
       "       Trip id           Starttime            Stoptime  Bikeid  Tripduration  \\\n",
       "8     15336135 2016-01-01 09:34:00 2016-01-02 10:45:00   73113         90638   \n",
       "26    15336549 2016-01-01 13:09:00 2016-01-03 15:32:00   73041        181423   \n",
       "1162  15364624 2016-01-09 22:31:00 2016-01-13 16:27:00   73028        323770   \n",
       "1852  15389050 2016-01-15 10:44:00 2016-01-17 10:46:00   73173        172903   \n",
       "1929  15390598 2016-01-15 18:13:00 2016-01-16 19:01:00   73206         89271   \n",
       "2101  15393891 2016-01-16 19:04:00 2016-01-20 15:27:00   73145        332604   \n",
       "2347  15407572 2016-01-20 10:15:00 2016-01-22 09:16:00   73041        169297   \n",
       "2595  15415854 2016-01-22 07:31:00 2016-01-26 16:01:00   73157        376240   \n",
       "2623  15417297 2016-01-22 12:15:00 2016-01-28 20:07:00   73115        546757   \n",
       "2624  15417298 2016-01-22 12:15:00 2016-02-01 12:52:00   73141        866245   \n",
       "\n",
       "      From station id                                 From station name  \\\n",
       "8              1916.0                City Hall - 1st St & Washington St   \n",
       "26             1909.0                     Midtown - Clinton St & 7th St   \n",
       "1162           1926.0               Lower Madison - Madison St & 1st St   \n",
       "1852           1926.0               Lower Madison - Madison St & 1st St   \n",
       "1929           1900.0                         Hoboken Terminal - Part 1   \n",
       "2101           1902.0                                       Pier A Park   \n",
       "2347           1922.0                      Viaduct - Grand St & 14th St   \n",
       "2595           1920.0  Birthplace of Baseball - Washington St & 11th St   \n",
       "2623           1925.0              Upper Madison - Madison St & 10th St   \n",
       "2624           1900.0                         Hoboken Terminal - Part 1   \n",
       "\n",
       "      To station id                      To station name  \n",
       "8            1916.0   City Hall - 1st St & Washington St  \n",
       "26           1900.0            Hoboken Terminal - Part 1  \n",
       "1162         1926.0  Lower Madison - Madison St & 1st St  \n",
       "1852         1926.0  Lower Madison - Madison St & 1st St  \n",
       "1929            NaN  park + garden - Garden St & 15th St  \n",
       "2101         1902.0                          Pier A Park  \n",
       "2347         1922.0         Viaduct - Grand St & 14th St  \n",
       "2595         1903.0               14th St Ferry Terminal  \n",
       "2623            NaN                  Industrial Road 334  \n",
       "2624         1999.0                      Hoboken STORAGE  "
      ]
     },
     "execution_count": 173,
     "metadata": {},
     "output_type": "execute_result"
    }
   ],
   "source": [
    "combined_data[combined_data.Tripduration > (24 * 60 * 60)][:10]"
   ]
  },
  {
   "cell_type": "markdown",
   "metadata": {},
   "source": [
    "## Let's get station names\n",
    "If a station id is null, its not a station but a bike"
   ]
  },
  {
   "cell_type": "code",
   "execution_count": 182,
   "metadata": {
    "scrolled": false
   },
   "outputs": [
    {
     "data": {
      "text/html": [
       "<div>\n",
       "<style>\n",
       "    .dataframe thead tr:only-child th {\n",
       "        text-align: right;\n",
       "    }\n",
       "\n",
       "    .dataframe thead th {\n",
       "        text-align: left;\n",
       "    }\n",
       "\n",
       "    .dataframe tbody tr th {\n",
       "        vertical-align: top;\n",
       "    }\n",
       "</style>\n",
       "<table border=\"1\" class=\"dataframe\">\n",
       "  <thead>\n",
       "    <tr style=\"text-align: right;\">\n",
       "      <th></th>\n",
       "      <th>Trip id</th>\n",
       "      <th>Starttime</th>\n",
       "      <th>Stoptime</th>\n",
       "      <th>Bikeid</th>\n",
       "      <th>Tripduration</th>\n",
       "      <th>From station id</th>\n",
       "      <th>From station name</th>\n",
       "      <th>To station id</th>\n",
       "      <th>To station name</th>\n",
       "    </tr>\n",
       "  </thead>\n",
       "  <tbody>\n",
       "    <tr>\n",
       "      <th>9</th>\n",
       "      <td>15336141</td>\n",
       "      <td>2016-01-01 09:37:00</td>\n",
       "      <td>2016-01-01 09:43:00</td>\n",
       "      <td>73002</td>\n",
       "      <td>396</td>\n",
       "      <td>NaN</td>\n",
       "      <td>BIKE 73002</td>\n",
       "      <td>1929.0</td>\n",
       "      <td>Carepoint Health</td>\n",
       "    </tr>\n",
       "    <tr>\n",
       "      <th>11</th>\n",
       "      <td>15336247</td>\n",
       "      <td>2016-01-01 10:18:00</td>\n",
       "      <td>2016-01-01 10:25:00</td>\n",
       "      <td>73222</td>\n",
       "      <td>417</td>\n",
       "      <td>NaN</td>\n",
       "      <td>BIKE 73222</td>\n",
       "      <td>1900.0</td>\n",
       "      <td>Hoboken Terminal - Part 1</td>\n",
       "    </tr>\n",
       "    <tr>\n",
       "      <th>12</th>\n",
       "      <td>15336283</td>\n",
       "      <td>2016-01-01 10:39:00</td>\n",
       "      <td>2016-01-01 10:39:00</td>\n",
       "      <td>73214</td>\n",
       "      <td>38</td>\n",
       "      <td>NaN</td>\n",
       "      <td>BIKE 73214</td>\n",
       "      <td>NaN</td>\n",
       "      <td>BIKE 73214</td>\n",
       "    </tr>\n",
       "    <tr>\n",
       "      <th>16</th>\n",
       "      <td>15336362</td>\n",
       "      <td>2016-01-01 11:17:00</td>\n",
       "      <td>2016-01-01 11:17:00</td>\n",
       "      <td>73217</td>\n",
       "      <td>32</td>\n",
       "      <td>NaN</td>\n",
       "      <td>BIKE 73217</td>\n",
       "      <td>1902.0</td>\n",
       "      <td>Pier A Park</td>\n",
       "    </tr>\n",
       "    <tr>\n",
       "      <th>20</th>\n",
       "      <td>15336458</td>\n",
       "      <td>2016-01-01 12:08:00</td>\n",
       "      <td>2016-01-01 12:13:00</td>\n",
       "      <td>73041</td>\n",
       "      <td>290</td>\n",
       "      <td>NaN</td>\n",
       "      <td>BIKE 73041</td>\n",
       "      <td>1909.0</td>\n",
       "      <td>Midtown - Clinton St &amp; 7th St</td>\n",
       "    </tr>\n",
       "    <tr>\n",
       "      <th>33</th>\n",
       "      <td>15336601</td>\n",
       "      <td>2016-01-01 13:41:00</td>\n",
       "      <td>2016-01-01 13:50:00</td>\n",
       "      <td>73062</td>\n",
       "      <td>519</td>\n",
       "      <td>NaN</td>\n",
       "      <td>BIKE 73062</td>\n",
       "      <td>1925.0</td>\n",
       "      <td>Upper Madison - Madison St &amp; 10th St</td>\n",
       "    </tr>\n",
       "    <tr>\n",
       "      <th>54</th>\n",
       "      <td>15336827</td>\n",
       "      <td>2016-01-01 16:17:00</td>\n",
       "      <td>2016-01-01 16:21:00</td>\n",
       "      <td>73239</td>\n",
       "      <td>223</td>\n",
       "      <td>NaN</td>\n",
       "      <td>BIKE 73239</td>\n",
       "      <td>NaN</td>\n",
       "      <td>BIKE 73239</td>\n",
       "    </tr>\n",
       "    <tr>\n",
       "      <th>57</th>\n",
       "      <td>15336839</td>\n",
       "      <td>2016-01-01 16:27:00</td>\n",
       "      <td>2016-01-01 16:37:00</td>\n",
       "      <td>73021</td>\n",
       "      <td>636</td>\n",
       "      <td>NaN</td>\n",
       "      <td>BIKE 73021</td>\n",
       "      <td>1909.0</td>\n",
       "      <td>Midtown - Clinton St &amp; 7th St</td>\n",
       "    </tr>\n",
       "    <tr>\n",
       "      <th>59</th>\n",
       "      <td>15336849</td>\n",
       "      <td>2016-01-01 16:30:00</td>\n",
       "      <td>2016-01-01 17:03:00</td>\n",
       "      <td>73239</td>\n",
       "      <td>2007</td>\n",
       "      <td>NaN</td>\n",
       "      <td>BIKE 73239</td>\n",
       "      <td>1920.0</td>\n",
       "      <td>Birthplace of Baseball - Washington St &amp; 11th St</td>\n",
       "    </tr>\n",
       "    <tr>\n",
       "      <th>61</th>\n",
       "      <td>15336876</td>\n",
       "      <td>2016-01-01 16:50:00</td>\n",
       "      <td>2016-01-01 17:31:00</td>\n",
       "      <td>73010</td>\n",
       "      <td>2483</td>\n",
       "      <td>NaN</td>\n",
       "      <td>BIKE 73010</td>\n",
       "      <td>1928.0</td>\n",
       "      <td>park + garden - Garden St &amp; 15th St</td>\n",
       "    </tr>\n",
       "    <tr>\n",
       "      <th>63</th>\n",
       "      <td>15336885</td>\n",
       "      <td>2016-01-01 16:57:00</td>\n",
       "      <td>2016-01-01 17:06:00</td>\n",
       "      <td>73136</td>\n",
       "      <td>526</td>\n",
       "      <td>NaN</td>\n",
       "      <td>BIKE 73136</td>\n",
       "      <td>NaN</td>\n",
       "      <td>BIKE 73136</td>\n",
       "    </tr>\n",
       "    <tr>\n",
       "      <th>93</th>\n",
       "      <td>15337105</td>\n",
       "      <td>2016-01-01 21:38:00</td>\n",
       "      <td>2016-01-01 21:44:00</td>\n",
       "      <td>73008</td>\n",
       "      <td>332</td>\n",
       "      <td>NaN</td>\n",
       "      <td>BIKE 73008</td>\n",
       "      <td>1906.0</td>\n",
       "      <td>Mama Johnson Field - 4th St &amp; Jackson St</td>\n",
       "    </tr>\n",
       "    <tr>\n",
       "      <th>98</th>\n",
       "      <td>15337154</td>\n",
       "      <td>2016-01-01 23:18:00</td>\n",
       "      <td>2016-01-01 23:24:00</td>\n",
       "      <td>73050</td>\n",
       "      <td>369</td>\n",
       "      <td>NaN</td>\n",
       "      <td>BIKE 73050</td>\n",
       "      <td>1925.0</td>\n",
       "      <td>Upper Madison - Madison St &amp; 10th St</td>\n",
       "    </tr>\n",
       "    <tr>\n",
       "      <th>104</th>\n",
       "      <td>15337699</td>\n",
       "      <td>2016-01-02 07:42:00</td>\n",
       "      <td>2016-01-02 07:50:00</td>\n",
       "      <td>73202</td>\n",
       "      <td>501</td>\n",
       "      <td>NaN</td>\n",
       "      <td>BIKE 73202</td>\n",
       "      <td>1902.0</td>\n",
       "      <td>Pier A Park</td>\n",
       "    </tr>\n",
       "    <tr>\n",
       "      <th>107</th>\n",
       "      <td>15337847</td>\n",
       "      <td>2016-01-02 08:48:00</td>\n",
       "      <td>2016-01-02 09:03:00</td>\n",
       "      <td>73081</td>\n",
       "      <td>922</td>\n",
       "      <td>NaN</td>\n",
       "      <td>BIKE 73081</td>\n",
       "      <td>1904.0</td>\n",
       "      <td>Pier C Park</td>\n",
       "    </tr>\n",
       "    <tr>\n",
       "      <th>111</th>\n",
       "      <td>15338008</td>\n",
       "      <td>2016-01-02 09:55:00</td>\n",
       "      <td>2016-01-02 10:11:00</td>\n",
       "      <td>73152</td>\n",
       "      <td>919</td>\n",
       "      <td>NaN</td>\n",
       "      <td>BIKE 73152</td>\n",
       "      <td>NaN</td>\n",
       "      <td>BIKE 73152</td>\n",
       "    </tr>\n",
       "    <tr>\n",
       "      <th>125</th>\n",
       "      <td>15338212</td>\n",
       "      <td>2016-01-02 11:07:00</td>\n",
       "      <td>2016-01-02 11:24:00</td>\n",
       "      <td>73152</td>\n",
       "      <td>1027</td>\n",
       "      <td>NaN</td>\n",
       "      <td>BIKE 73152</td>\n",
       "      <td>1929.0</td>\n",
       "      <td>Carepoint Health</td>\n",
       "    </tr>\n",
       "    <tr>\n",
       "      <th>131</th>\n",
       "      <td>15338251</td>\n",
       "      <td>2016-01-02 11:27:00</td>\n",
       "      <td>2016-01-02 11:27:00</td>\n",
       "      <td>73045</td>\n",
       "      <td>38</td>\n",
       "      <td>NaN</td>\n",
       "      <td>BIKE 73045</td>\n",
       "      <td>1900.0</td>\n",
       "      <td>Hoboken Terminal - Part 1</td>\n",
       "    </tr>\n",
       "    <tr>\n",
       "      <th>142</th>\n",
       "      <td>15338362</td>\n",
       "      <td>2016-01-02 12:11:00</td>\n",
       "      <td>2016-01-02 12:20:00</td>\n",
       "      <td>73021</td>\n",
       "      <td>495</td>\n",
       "      <td>NaN</td>\n",
       "      <td>BIKE 73021</td>\n",
       "      <td>1909.0</td>\n",
       "      <td>Midtown - Clinton St &amp; 7th St</td>\n",
       "    </tr>\n",
       "    <tr>\n",
       "      <th>143</th>\n",
       "      <td>15338373</td>\n",
       "      <td>2016-01-02 12:13:00</td>\n",
       "      <td>2016-01-02 12:20:00</td>\n",
       "      <td>73050</td>\n",
       "      <td>402</td>\n",
       "      <td>NaN</td>\n",
       "      <td>BIKE 73050</td>\n",
       "      <td>1926.0</td>\n",
       "      <td>Lower Madison - Madison St &amp; 1st St</td>\n",
       "    </tr>\n",
       "  </tbody>\n",
       "</table>\n",
       "</div>"
      ],
      "text/plain": [
       "      Trip id           Starttime            Stoptime  Bikeid  Tripduration  \\\n",
       "9    15336141 2016-01-01 09:37:00 2016-01-01 09:43:00   73002           396   \n",
       "11   15336247 2016-01-01 10:18:00 2016-01-01 10:25:00   73222           417   \n",
       "12   15336283 2016-01-01 10:39:00 2016-01-01 10:39:00   73214            38   \n",
       "16   15336362 2016-01-01 11:17:00 2016-01-01 11:17:00   73217            32   \n",
       "20   15336458 2016-01-01 12:08:00 2016-01-01 12:13:00   73041           290   \n",
       "33   15336601 2016-01-01 13:41:00 2016-01-01 13:50:00   73062           519   \n",
       "54   15336827 2016-01-01 16:17:00 2016-01-01 16:21:00   73239           223   \n",
       "57   15336839 2016-01-01 16:27:00 2016-01-01 16:37:00   73021           636   \n",
       "59   15336849 2016-01-01 16:30:00 2016-01-01 17:03:00   73239          2007   \n",
       "61   15336876 2016-01-01 16:50:00 2016-01-01 17:31:00   73010          2483   \n",
       "63   15336885 2016-01-01 16:57:00 2016-01-01 17:06:00   73136           526   \n",
       "93   15337105 2016-01-01 21:38:00 2016-01-01 21:44:00   73008           332   \n",
       "98   15337154 2016-01-01 23:18:00 2016-01-01 23:24:00   73050           369   \n",
       "104  15337699 2016-01-02 07:42:00 2016-01-02 07:50:00   73202           501   \n",
       "107  15337847 2016-01-02 08:48:00 2016-01-02 09:03:00   73081           922   \n",
       "111  15338008 2016-01-02 09:55:00 2016-01-02 10:11:00   73152           919   \n",
       "125  15338212 2016-01-02 11:07:00 2016-01-02 11:24:00   73152          1027   \n",
       "131  15338251 2016-01-02 11:27:00 2016-01-02 11:27:00   73045            38   \n",
       "142  15338362 2016-01-02 12:11:00 2016-01-02 12:20:00   73021           495   \n",
       "143  15338373 2016-01-02 12:13:00 2016-01-02 12:20:00   73050           402   \n",
       "\n",
       "     From station id From station name  To station id  \\\n",
       "9                NaN        BIKE 73002         1929.0   \n",
       "11               NaN        BIKE 73222         1900.0   \n",
       "12               NaN        BIKE 73214            NaN   \n",
       "16               NaN        BIKE 73217         1902.0   \n",
       "20               NaN        BIKE 73041         1909.0   \n",
       "33               NaN        BIKE 73062         1925.0   \n",
       "54               NaN        BIKE 73239            NaN   \n",
       "57               NaN        BIKE 73021         1909.0   \n",
       "59               NaN        BIKE 73239         1920.0   \n",
       "61               NaN        BIKE 73010         1928.0   \n",
       "63               NaN        BIKE 73136            NaN   \n",
       "93               NaN        BIKE 73008         1906.0   \n",
       "98               NaN        BIKE 73050         1925.0   \n",
       "104              NaN        BIKE 73202         1902.0   \n",
       "107              NaN        BIKE 73081         1904.0   \n",
       "111              NaN        BIKE 73152            NaN   \n",
       "125              NaN        BIKE 73152         1929.0   \n",
       "131              NaN        BIKE 73045         1900.0   \n",
       "142              NaN        BIKE 73021         1909.0   \n",
       "143              NaN        BIKE 73050         1926.0   \n",
       "\n",
       "                                      To station name  \n",
       "9                                    Carepoint Health  \n",
       "11                          Hoboken Terminal - Part 1  \n",
       "12                                         BIKE 73214  \n",
       "16                                        Pier A Park  \n",
       "20                      Midtown - Clinton St & 7th St  \n",
       "33               Upper Madison - Madison St & 10th St  \n",
       "54                                         BIKE 73239  \n",
       "57                      Midtown - Clinton St & 7th St  \n",
       "59   Birthplace of Baseball - Washington St & 11th St  \n",
       "61                park + garden - Garden St & 15th St  \n",
       "63                                         BIKE 73136  \n",
       "93           Mama Johnson Field - 4th St & Jackson St  \n",
       "98               Upper Madison - Madison St & 10th St  \n",
       "104                                       Pier A Park  \n",
       "107                                       Pier C Park  \n",
       "111                                        BIKE 73152  \n",
       "125                                  Carepoint Health  \n",
       "131                         Hoboken Terminal - Part 1  \n",
       "142                     Midtown - Clinton St & 7th St  \n",
       "143               Lower Madison - Madison St & 1st St  "
      ]
     },
     "execution_count": 182,
     "metadata": {},
     "output_type": "execute_result"
    }
   ],
   "source": [
    "combined_data[pd.isnull(combined_data['From station id'])][:20]"
   ]
  },
  {
   "cell_type": "code",
   "execution_count": 206,
   "metadata": {},
   "outputs": [],
   "source": [
    "mask = pd.notnull(combined_data['From station id']) | pd.notnull(combined_data['To station id'])\n",
    "data_stations = combined_data[mask].copy()"
   ]
  },
  {
   "cell_type": "code",
   "execution_count": 207,
   "metadata": {},
   "outputs": [
    {
     "data": {
      "text/html": [
       "<div>\n",
       "<style>\n",
       "    .dataframe thead tr:only-child th {\n",
       "        text-align: right;\n",
       "    }\n",
       "\n",
       "    .dataframe thead th {\n",
       "        text-align: left;\n",
       "    }\n",
       "\n",
       "    .dataframe tbody tr th {\n",
       "        vertical-align: top;\n",
       "    }\n",
       "</style>\n",
       "<table border=\"1\" class=\"dataframe\">\n",
       "  <thead>\n",
       "    <tr style=\"text-align: right;\">\n",
       "      <th></th>\n",
       "      <th>Trip id</th>\n",
       "      <th>Starttime</th>\n",
       "      <th>Stoptime</th>\n",
       "      <th>Bikeid</th>\n",
       "      <th>Tripduration</th>\n",
       "      <th>From station id</th>\n",
       "      <th>From station name</th>\n",
       "      <th>To station id</th>\n",
       "      <th>To station name</th>\n",
       "    </tr>\n",
       "  </thead>\n",
       "  <tbody>\n",
       "    <tr>\n",
       "      <th>0</th>\n",
       "      <td>15335543</td>\n",
       "      <td>2016-01-01 00:14:00</td>\n",
       "      <td>2016-01-01 00:19:00</td>\n",
       "      <td>73036</td>\n",
       "      <td>337</td>\n",
       "      <td>1922.0</td>\n",
       "      <td>Viaduct - Grand St &amp; 14th St</td>\n",
       "      <td>1903.0</td>\n",
       "      <td>14th St Ferry Terminal</td>\n",
       "    </tr>\n",
       "    <tr>\n",
       "      <th>1</th>\n",
       "      <td>15335544</td>\n",
       "      <td>2016-01-01 00:14:00</td>\n",
       "      <td>2016-01-01 00:20:00</td>\n",
       "      <td>73047</td>\n",
       "      <td>357</td>\n",
       "      <td>1922.0</td>\n",
       "      <td>Viaduct - Grand St &amp; 14th St</td>\n",
       "      <td>1903.0</td>\n",
       "      <td>14th St Ferry Terminal</td>\n",
       "    </tr>\n",
       "    <tr>\n",
       "      <th>2</th>\n",
       "      <td>15335607</td>\n",
       "      <td>2016-01-01 02:00:00</td>\n",
       "      <td>2016-01-01 02:16:00</td>\n",
       "      <td>73161</td>\n",
       "      <td>959</td>\n",
       "      <td>1909.0</td>\n",
       "      <td>Midtown - Clinton St &amp; 7th St</td>\n",
       "      <td>NaN</td>\n",
       "      <td>BIKE 73161</td>\n",
       "    </tr>\n",
       "    <tr>\n",
       "      <th>3</th>\n",
       "      <td>15335608</td>\n",
       "      <td>2016-01-01 02:01:00</td>\n",
       "      <td>2016-01-01 02:20:00</td>\n",
       "      <td>73124</td>\n",
       "      <td>1122</td>\n",
       "      <td>1909.0</td>\n",
       "      <td>Midtown - Clinton St &amp; 7th St</td>\n",
       "      <td>NaN</td>\n",
       "      <td>BIKE 73124</td>\n",
       "    </tr>\n",
       "    <tr>\n",
       "      <th>4</th>\n",
       "      <td>15335613</td>\n",
       "      <td>2016-01-01 02:16:00</td>\n",
       "      <td>2016-01-01 02:22:00</td>\n",
       "      <td>73014</td>\n",
       "      <td>325</td>\n",
       "      <td>1926.0</td>\n",
       "      <td>Lower Madison - Madison St &amp; 1st St</td>\n",
       "      <td>1926.0</td>\n",
       "      <td>Lower Madison - Madison St &amp; 1st St</td>\n",
       "    </tr>\n",
       "  </tbody>\n",
       "</table>\n",
       "</div>"
      ],
      "text/plain": [
       "    Trip id           Starttime            Stoptime  Bikeid  Tripduration  \\\n",
       "0  15335543 2016-01-01 00:14:00 2016-01-01 00:19:00   73036           337   \n",
       "1  15335544 2016-01-01 00:14:00 2016-01-01 00:20:00   73047           357   \n",
       "2  15335607 2016-01-01 02:00:00 2016-01-01 02:16:00   73161           959   \n",
       "3  15335608 2016-01-01 02:01:00 2016-01-01 02:20:00   73124          1122   \n",
       "4  15335613 2016-01-01 02:16:00 2016-01-01 02:22:00   73014           325   \n",
       "\n",
       "   From station id                    From station name  To station id  \\\n",
       "0           1922.0         Viaduct - Grand St & 14th St         1903.0   \n",
       "1           1922.0         Viaduct - Grand St & 14th St         1903.0   \n",
       "2           1909.0        Midtown - Clinton St & 7th St            NaN   \n",
       "3           1909.0        Midtown - Clinton St & 7th St            NaN   \n",
       "4           1926.0  Lower Madison - Madison St & 1st St         1926.0   \n",
       "\n",
       "                       To station name  \n",
       "0               14th St Ferry Terminal  \n",
       "1               14th St Ferry Terminal  \n",
       "2                           BIKE 73161  \n",
       "3                           BIKE 73124  \n",
       "4  Lower Madison - Madison St & 1st St  "
      ]
     },
     "execution_count": 207,
     "metadata": {},
     "output_type": "execute_result"
    }
   ],
   "source": [
    "data_stations.head()"
   ]
  },
  {
   "cell_type": "code",
   "execution_count": 208,
   "metadata": {},
   "outputs": [
    {
     "data": {
      "text/plain": [
       "(44, 46)"
      ]
     },
     "execution_count": 208,
     "metadata": {},
     "output_type": "execute_result"
    }
   ],
   "source": [
    "len(data_stations['From station id'].unique()),len(data_stations['To station id'].unique())"
   ]
  },
  {
   "cell_type": "code",
   "execution_count": 209,
   "metadata": {},
   "outputs": [
    {
     "data": {
      "text/plain": [
       "(2659, 3103)"
      ]
     },
     "execution_count": 209,
     "metadata": {},
     "output_type": "execute_result"
    }
   ],
   "source": [
    "len(data_stations['From station name'].unique()),len(data_stations['To station name'].unique())"
   ]
  },
  {
   "cell_type": "code",
   "execution_count": 229,
   "metadata": {},
   "outputs": [],
   "source": [
    "from_station_ids = set(data_stations['From station id'].dropna().unique())\n",
    "to_stations_ids = set(data_stations['To station id'].dropna().unique())"
   ]
  },
  {
   "cell_type": "code",
   "execution_count": 230,
   "metadata": {},
   "outputs": [
    {
     "data": {
      "text/plain": [
       "{1932.0, 5555.0, 6566.0}"
      ]
     },
     "execution_count": 230,
     "metadata": {},
     "output_type": "execute_result"
    }
   ],
   "source": [
    "to_stations_ids - from_station_ids"
   ]
  },
  {
   "cell_type": "code",
   "execution_count": 231,
   "metadata": {},
   "outputs": [
    {
     "data": {
      "text/plain": [
       "{5516.0}"
      ]
     },
     "execution_count": 231,
     "metadata": {},
     "output_type": "execute_result"
    }
   ],
   "source": [
    "from_station_ids - to_stations_ids"
   ]
  },
  {
   "cell_type": "code",
   "execution_count": 232,
   "metadata": {
    "collapsed": true
   },
   "outputs": [],
   "source": [
    "from_station_ids.remove(5516)\n",
    "to_stations_ids.remove(1932)\n",
    "to_stations_ids.remove(5555)\n",
    "to_stations_ids.remove(6566)"
   ]
  },
  {
   "cell_type": "code",
   "execution_count": 235,
   "metadata": {},
   "outputs": [
    {
     "data": {
      "text/plain": [
       "True"
      ]
     },
     "execution_count": 235,
     "metadata": {},
     "output_type": "execute_result"
    }
   ],
   "source": [
    "to_stations_ids == from_station_ids"
   ]
  },
  {
   "cell_type": "code",
   "execution_count": 249,
   "metadata": {},
   "outputs": [
    {
     "data": {
      "text/plain": [
       "42"
      ]
     },
     "execution_count": 249,
     "metadata": {},
     "output_type": "execute_result"
    }
   ],
   "source": [
    "len(to_stations_ids)"
   ]
  },
  {
   "cell_type": "code",
   "execution_count": 236,
   "metadata": {
    "collapsed": true
   },
   "outputs": [],
   "source": [
    "stations = {}"
   ]
  },
  {
   "cell_type": "code",
   "execution_count": 240,
   "metadata": {},
   "outputs": [
    {
     "data": {
      "text/plain": [
       "True"
      ]
     },
     "execution_count": 240,
     "metadata": {},
     "output_type": "execute_result"
    }
   ],
   "source": [
    "'k' not in stations"
   ]
  },
  {
   "cell_type": "code",
   "execution_count": 246,
   "metadata": {},
   "outputs": [],
   "source": [
    "for station_id, station_name in zip(data_stations['From station id'], data_stations['From station name']):\n",
    "    if station_id in from_station_ids:\n",
    "        if station_id not in stations:\n",
    "            stations[station_id] = station_name\n",
    "            \n",
    "for station_id, station_name in zip(data_stations['To station id'], data_stations['To station name']):\n",
    "    if station_id in from_station_ids:\n",
    "        if station_id not in stations:\n",
    "            stations[station_id] = station_name\n",
    "            "
   ]
  },
  {
   "cell_type": "code",
   "execution_count": 248,
   "metadata": {},
   "outputs": [
    {
     "data": {
      "text/plain": [
       "42"
      ]
     },
     "execution_count": 248,
     "metadata": {},
     "output_type": "execute_result"
    }
   ],
   "source": [
    "len(stations)"
   ]
  },
  {
   "cell_type": "code",
   "execution_count": 251,
   "metadata": {},
   "outputs": [
    {
     "data": {
      "text/plain": [
       "{1900.0: 'Hoboken Terminal - Part 1',\n",
       " 1901.0: 'Hoboken Terminal West - Hudson St & Hudson Pl - PATH',\n",
       " 1902.0: 'Pier A Park',\n",
       " 1903.0: '14th St Ferry Terminal',\n",
       " 1904.0: 'Pier C Park',\n",
       " 1905.0: 'Lower Washington - Washington St & 4th St',\n",
       " 1906.0: 'Mama Johnson Field - 4th St & Jackson St',\n",
       " 1907.0: 'Stevens South - River Ter & 6th St',\n",
       " 1908.0: 'Midtown West - Jefferson St & 6th St',\n",
       " 1909.0: 'Midtown - Clinton St & 7th St',\n",
       " 1910.0: 'Stevens North - 8th St & Castle Pt Ter',\n",
       " 1911.0: 'Midtown East - 8th St & Garden St',\n",
       " 1912.0: '9th St HBLR Station - 8th St & Jackson St',\n",
       " 1913.0: 'Columbus Park',\n",
       " 1916.0: 'City Hall - 1st St & Washington St',\n",
       " 1917.0: 'Newark Plaza - Newark St & Adams St',\n",
       " 1918.0: 'Southwest Park - Harrison St & Observer Hwy',\n",
       " 1919.0: 'Maxwell Place Park - Sinatra Dr & 11th St',\n",
       " 1920.0: 'Birthplace of Baseball - Washington St & 11th St',\n",
       " 1921.0: 'Upper Willow - 12th St & Willow Ave',\n",
       " 1922.0: 'Viaduct - Grand St & 14th St',\n",
       " 1923.0: 'Multi-Service Center - Grand St & 2nd St',\n",
       " 1924.0: '14th St Commercial District - Washington St & 14th St',\n",
       " 1925.0: 'Upper Madison - Madison St & 10th St',\n",
       " 1926.0: 'Lower Madison - Madison St & 1st St',\n",
       " 1927.0: 'Library/Church Square Park - 5th St & Park Ave',\n",
       " 1928.0: 'park + garden - Garden St & 15th St',\n",
       " 1929.0: 'Carepoint Health',\n",
       " 1930.0: '2nd St HBLR Station - 2nd St & Marshall St',\n",
       " 1931.0: 'No Fee Zone Port Imperial Ferry Terminal (Virtual)',\n",
       " 1935.0: 'No Fee Zone 1 Lincoln Harbor (Virtual)',\n",
       " 1936.0: 'Exchange Place No Fee Zone (Virtual)',\n",
       " 1937.0: 'Newport Hudson-Bergen Light Rail No Fee Zone (Virtual)',\n",
       " 1938.0: 'Grove Street No Fee Zone 1 (Virtual)',\n",
       " 1941.0: 'No Fee Zone - Lincoln Harbor (Virtual)',\n",
       " 1946.0: 'Grove Street No Fee Zone 3 (Virtual)',\n",
       " 1948.0: 'Grove Street No Fee Zone 2 (Virtual)',\n",
       " 1949.0: 'Hoboken Terminal South - Observer Hwy & Hudson St',\n",
       " 1950.0: 'Hoboken Terminal - Part 2',\n",
       " 1999.0: 'Hoboken STORAGE',\n",
       " 5515.0: 'Strandhotel Seerose K√∂lpinsee 5515',\n",
       " 5562.0: 'Naturcamping Stagnie√ü 5562'}"
      ]
     },
     "execution_count": 251,
     "metadata": {},
     "output_type": "execute_result"
    }
   ],
   "source": [
    "stations"
   ]
  },
  {
   "cell_type": "markdown",
   "metadata": {},
   "source": [
    "## Lat-Long coords"
   ]
  },
  {
   "cell_type": "code",
   "execution_count": 252,
   "metadata": {
    "collapsed": true
   },
   "outputs": [],
   "source": [
    "import requests"
   ]
  },
  {
   "cell_type": "code",
   "execution_count": 253,
   "metadata": {
    "collapsed": true
   },
   "outputs": [],
   "source": [
    "r = requests.get('https://iframe.nextbike.net/maps/nextbike-live.xml')"
   ]
  },
  {
   "cell_type": "code",
   "execution_count": 254,
   "metadata": {},
   "outputs": [
    {
     "data": {
      "text/plain": [
       "200"
      ]
     },
     "execution_count": 254,
     "metadata": {},
     "output_type": "execute_result"
    }
   ],
   "source": [
    "r.status_code"
   ]
  },
  {
   "cell_type": "code",
   "execution_count": 256,
   "metadata": {
    "collapsed": true
   },
   "outputs": [],
   "source": [
    "from bs4 import BeautifulSoup"
   ]
  },
  {
   "cell_type": "code",
   "execution_count": 258,
   "metadata": {
    "scrolled": false
   },
   "outputs": [],
   "source": [
    "soup = BeautifulSoup(r.content, \"lxml\")"
   ]
  },
  {
   "cell_type": "code",
   "execution_count": 263,
   "metadata": {
    "collapsed": true
   },
   "outputs": [],
   "source": [
    "country_us=soup.find('country',attrs={\"domain\":\"nj\",\"country\":\"US\",\"country_name\":\"United States\"})"
   ]
  },
  {
   "cell_type": "code",
   "execution_count": 294,
   "metadata": {},
   "outputs": [],
   "source": [
    "places = {}\n",
    "for place in country_us.find_all('place'):\n",
    "    places[place[\"name\"]] = [float(place[\"lat\"]),float(place[\"lng\"])] # place[\"bike_racks\"]\n"
   ]
  },
  {
   "cell_type": "code",
   "execution_count": 295,
   "metadata": {},
   "outputs": [
    {
     "data": {
      "text/plain": [
       "38"
      ]
     },
     "execution_count": 295,
     "metadata": {},
     "output_type": "execute_result"
    }
   ],
   "source": [
    "len(places)"
   ]
  },
  {
   "cell_type": "markdown",
   "metadata": {},
   "source": [
    "## We don't have these places in the current dataset (Q1 - Q4 2016)"
   ]
  },
  {
   "cell_type": "code",
   "execution_count": 296,
   "metadata": {},
   "outputs": [
    {
     "data": {
      "text/plain": [
       "{'18th Street', '600 Harrison', 'Garden Street', 'Willow Avenue 1100'}"
      ]
     },
     "execution_count": 296,
     "metadata": {},
     "output_type": "execute_result"
    }
   ],
   "source": [
    "set(places.keys()) - set(stations.values())"
   ]
  },
  {
   "cell_type": "markdown",
   "metadata": {},
   "source": [
    "## And these are no longer used."
   ]
  },
  {
   "cell_type": "code",
   "execution_count": 297,
   "metadata": {},
   "outputs": [
    {
     "data": {
      "text/plain": [
       "{'Exchange Place No Fee Zone (Virtual)',\n",
       " 'Grove Street No Fee Zone 1 (Virtual)',\n",
       " 'Grove Street No Fee Zone 2 (Virtual)',\n",
       " 'Grove Street No Fee Zone 3 (Virtual)',\n",
       " 'Hoboken STORAGE',\n",
       " 'Naturcamping Stagnie√ü 5562',\n",
       " 'Newport Hudson-Bergen Light Rail No Fee Zone (Virtual)',\n",
       " 'Strandhotel Seerose K√∂lpinsee 5515'}"
      ]
     },
     "execution_count": 297,
     "metadata": {},
     "output_type": "execute_result"
    }
   ],
   "source": [
    "set(stations.values()) - set(places.keys())"
   ]
  },
  {
   "cell_type": "code",
   "execution_count": 321,
   "metadata": {},
   "outputs": [],
   "source": [
    "keys_in_sync = list(set(stations.values()) & set(places.keys()))\n",
    "\n",
    "places_coords = {key:val for key,val in places.items() if key in keys_in_sync}"
   ]
  },
  {
   "cell_type": "code",
   "execution_count": 322,
   "metadata": {},
   "outputs": [
    {
     "data": {
      "text/plain": [
       "{'14th St Commercial District - Washington St & 14th St': [40.753283694968,\n",
       "  -74.026125669479],\n",
       " '14th St Ferry Terminal': [40.752674137989, -74.023464918137],\n",
       " '2nd St HBLR Station - 2nd St & Marshall St': [40.740774466561,\n",
       "  -74.042492508888],\n",
       " '9th St HBLR Station - 8th St & Jackson St': [40.747890953594,\n",
       "  -74.038442373276],\n",
       " 'Birthplace of Baseball - Washington St & 11th St': [40.750028595941,\n",
       "  -74.027155637741],\n",
       " 'Carepoint Health': [40.741221555552, -74.033673405647],\n",
       " 'City Hall - 1st St & Washington St': [40.737498431909, -74.031007289886],\n",
       " 'Columbus Park': [40.748114474547, -74.033335447311],\n",
       " 'Hoboken Terminal - Part 1': [40.735844095042, -74.029188752174],\n",
       " 'Hoboken Terminal - Part 2': [40.735787, -74.028591],\n",
       " 'Hoboken Terminal South - Observer Hwy & Hudson St': [40.735394, -74.030541],\n",
       " 'Hoboken Terminal West - Hudson St & Hudson Pl - PATH': [40.736055462241,\n",
       "  -74.030245542526],\n",
       " 'Library/Church Square Park - 5th St & Park Ave': [40.742599383633,\n",
       "  -74.032203555107],\n",
       " 'Lower Madison - Madison St & 1st St': [40.738819433036, -74.039230942726],\n",
       " 'Lower Washington - Washington St & 4th St': [40.741254070998,\n",
       "  -74.029725193977],\n",
       " 'Mama Johnson Field - 4th St & Jackson St': [40.743107425132,\n",
       "  -74.039987325668],\n",
       " 'Maxwell Place Park - Sinatra Dr & 11th St': [40.74949622376,\n",
       "  -74.023706316948],\n",
       " 'Midtown - Clinton St & 7th St': [40.745399660124, -74.033324718475],\n",
       " 'Midtown East - 8th St & Garden St': [40.746358798838, -74.029902219772],\n",
       " 'Midtown West - Jefferson St & 6th St': [40.744826608783, -74.036355614662],\n",
       " 'Multi-Service Center - Grand St & 2nd St': [40.739242147856,\n",
       "  -74.036183953285],\n",
       " 'Newark Plaza - Newark St & Adams St': [40.737250487236, -74.037648439407],\n",
       " 'No Fee Zone - Lincoln Harbor (Virtual)': [40.76011847789, -74.02236521244],\n",
       " 'No Fee Zone 1 Lincoln Harbor (Virtual)': [40.759033574132, -74.022644162178],\n",
       " 'No Fee Zone Port Imperial Ferry Terminal (Virtual)': [40.776982999917,\n",
       "  -74.010826349258],\n",
       " 'Pier A Park': [40.736848083257, -74.027654528618],\n",
       " 'Pier C Park': [40.739420987933, -74.026892781258],\n",
       " 'Southwest Park - Harrison St & Observer Hwy': [40.737868314869,\n",
       "  -74.042508602142],\n",
       " 'Stevens North - 8th St & Castle Pt Ter': [40.745562226981, -74.026265144348],\n",
       " 'Stevens South - River Ter & 6th St': [40.743172454164, -74.02694106102],\n",
       " 'Upper Madison - Madison St & 10th St': [40.749926998526, -74.035888910294],\n",
       " 'Upper Willow - 12th St & Willow Ave': [40.75173540931, -74.030256271362],\n",
       " 'Viaduct - Grand St & 14th St': [40.754218338149, -74.031463265419],\n",
       " 'park + garden - Garden St & 15th St': [40.754673463985, -74.027574062347]}"
      ]
     },
     "execution_count": 322,
     "metadata": {},
     "output_type": "execute_result"
    }
   ],
   "source": [
    "places_coords"
   ]
  },
  {
   "cell_type": "code",
   "execution_count": 323,
   "metadata": {},
   "outputs": [
    {
     "data": {
      "text/html": [
       "<div>\n",
       "<style>\n",
       "    .dataframe thead tr:only-child th {\n",
       "        text-align: right;\n",
       "    }\n",
       "\n",
       "    .dataframe thead th {\n",
       "        text-align: left;\n",
       "    }\n",
       "\n",
       "    .dataframe tbody tr th {\n",
       "        vertical-align: top;\n",
       "    }\n",
       "</style>\n",
       "<table border=\"1\" class=\"dataframe\">\n",
       "  <thead>\n",
       "    <tr style=\"text-align: right;\">\n",
       "      <th></th>\n",
       "      <th>station_names</th>\n",
       "      <th>lat</th>\n",
       "      <th>lng</th>\n",
       "    </tr>\n",
       "  </thead>\n",
       "  <tbody>\n",
       "    <tr>\n",
       "      <th>0</th>\n",
       "      <td>City Hall - 1st St &amp; Washington St</td>\n",
       "      <td>40.737498</td>\n",
       "      <td>-74.031007</td>\n",
       "    </tr>\n",
       "    <tr>\n",
       "      <th>1</th>\n",
       "      <td>14th St Commercial District - Washington St &amp; ...</td>\n",
       "      <td>40.753284</td>\n",
       "      <td>-74.026126</td>\n",
       "    </tr>\n",
       "    <tr>\n",
       "      <th>2</th>\n",
       "      <td>Hoboken Terminal - Part 1</td>\n",
       "      <td>40.735844</td>\n",
       "      <td>-74.029189</td>\n",
       "    </tr>\n",
       "    <tr>\n",
       "      <th>3</th>\n",
       "      <td>Lower Washington - Washington St &amp; 4th St</td>\n",
       "      <td>40.741254</td>\n",
       "      <td>-74.029725</td>\n",
       "    </tr>\n",
       "    <tr>\n",
       "      <th>4</th>\n",
       "      <td>Mama Johnson Field - 4th St &amp; Jackson St</td>\n",
       "      <td>40.743107</td>\n",
       "      <td>-74.039987</td>\n",
       "    </tr>\n",
       "  </tbody>\n",
       "</table>\n",
       "</div>"
      ],
      "text/plain": [
       "                                       station_names        lat        lng\n",
       "0                 City Hall - 1st St & Washington St  40.737498 -74.031007\n",
       "1  14th St Commercial District - Washington St & ...  40.753284 -74.026126\n",
       "2                          Hoboken Terminal - Part 1  40.735844 -74.029189\n",
       "3          Lower Washington - Washington St & 4th St  40.741254 -74.029725\n",
       "4           Mama Johnson Field - 4th St & Jackson St  40.743107 -74.039987"
      ]
     },
     "execution_count": 323,
     "metadata": {},
     "output_type": "execute_result"
    }
   ],
   "source": [
    "places_coords = pd.DataFrame.from_dict(places_coords,orient='index').reset_index()\n",
    "places_coords.columns = [\"station_names\",\"lat\",\"lng\"]\n",
    "places_coords.head()"
   ]
  },
  {
   "cell_type": "code",
   "execution_count": 324,
   "metadata": {
    "collapsed": true
   },
   "outputs": [],
   "source": [
    "data= pd.merge(places_coords, combined_data,how='right',left_on='station_names',right_on='From station name')"
   ]
  },
  {
   "cell_type": "code",
   "execution_count": 325,
   "metadata": {},
   "outputs": [
    {
     "data": {
      "text/html": [
       "<div>\n",
       "<style>\n",
       "    .dataframe thead tr:only-child th {\n",
       "        text-align: right;\n",
       "    }\n",
       "\n",
       "    .dataframe thead th {\n",
       "        text-align: left;\n",
       "    }\n",
       "\n",
       "    .dataframe tbody tr th {\n",
       "        vertical-align: top;\n",
       "    }\n",
       "</style>\n",
       "<table border=\"1\" class=\"dataframe\">\n",
       "  <thead>\n",
       "    <tr style=\"text-align: right;\">\n",
       "      <th></th>\n",
       "      <th>station_names</th>\n",
       "      <th>lat</th>\n",
       "      <th>lng</th>\n",
       "      <th>Trip id</th>\n",
       "      <th>Starttime</th>\n",
       "      <th>Stoptime</th>\n",
       "      <th>Bikeid</th>\n",
       "      <th>Tripduration</th>\n",
       "      <th>From station id</th>\n",
       "      <th>From station name</th>\n",
       "      <th>To station id</th>\n",
       "      <th>To station name</th>\n",
       "    </tr>\n",
       "  </thead>\n",
       "  <tbody>\n",
       "    <tr>\n",
       "      <th>0</th>\n",
       "      <td>City Hall - 1st St &amp; Washington St</td>\n",
       "      <td>40.737498</td>\n",
       "      <td>-74.031007</td>\n",
       "      <td>15336135</td>\n",
       "      <td>2016-01-01 09:34:00</td>\n",
       "      <td>2016-01-02 10:45:00</td>\n",
       "      <td>73113</td>\n",
       "      <td>90638</td>\n",
       "      <td>1916.0</td>\n",
       "      <td>City Hall - 1st St &amp; Washington St</td>\n",
       "      <td>1916.0</td>\n",
       "      <td>City Hall - 1st St &amp; Washington St</td>\n",
       "    </tr>\n",
       "    <tr>\n",
       "      <th>1</th>\n",
       "      <td>City Hall - 1st St &amp; Washington St</td>\n",
       "      <td>40.737498</td>\n",
       "      <td>-74.031007</td>\n",
       "      <td>15337037</td>\n",
       "      <td>2016-01-01 19:12:00</td>\n",
       "      <td>2016-01-01 19:26:00</td>\n",
       "      <td>73060</td>\n",
       "      <td>836</td>\n",
       "      <td>1916.0</td>\n",
       "      <td>City Hall - 1st St &amp; Washington St</td>\n",
       "      <td>1926.0</td>\n",
       "      <td>Lower Madison - Madison St &amp; 1st St</td>\n",
       "    </tr>\n",
       "    <tr>\n",
       "      <th>2</th>\n",
       "      <td>City Hall - 1st St &amp; Washington St</td>\n",
       "      <td>40.737498</td>\n",
       "      <td>-74.031007</td>\n",
       "      <td>15337050</td>\n",
       "      <td>2016-01-01 19:37:00</td>\n",
       "      <td>2016-01-02 00:09:00</td>\n",
       "      <td>72001</td>\n",
       "      <td>16265</td>\n",
       "      <td>1916.0</td>\n",
       "      <td>City Hall - 1st St &amp; Washington St</td>\n",
       "      <td>1916.0</td>\n",
       "      <td>City Hall - 1st St &amp; Washington St</td>\n",
       "    </tr>\n",
       "    <tr>\n",
       "      <th>3</th>\n",
       "      <td>City Hall - 1st St &amp; Washington St</td>\n",
       "      <td>40.737498</td>\n",
       "      <td>-74.031007</td>\n",
       "      <td>15337664</td>\n",
       "      <td>2016-01-02 07:23:00</td>\n",
       "      <td>2016-01-02 07:29:00</td>\n",
       "      <td>73206</td>\n",
       "      <td>328</td>\n",
       "      <td>1916.0</td>\n",
       "      <td>City Hall - 1st St &amp; Washington St</td>\n",
       "      <td>NaN</td>\n",
       "      <td>BIKE 73206</td>\n",
       "    </tr>\n",
       "    <tr>\n",
       "      <th>4</th>\n",
       "      <td>City Hall - 1st St &amp; Washington St</td>\n",
       "      <td>40.737498</td>\n",
       "      <td>-74.031007</td>\n",
       "      <td>15339025</td>\n",
       "      <td>2016-01-02 17:38:00</td>\n",
       "      <td>2016-01-02 17:44:00</td>\n",
       "      <td>73052</td>\n",
       "      <td>344</td>\n",
       "      <td>1916.0</td>\n",
       "      <td>City Hall - 1st St &amp; Washington St</td>\n",
       "      <td>1926.0</td>\n",
       "      <td>Lower Madison - Madison St &amp; 1st St</td>\n",
       "    </tr>\n",
       "  </tbody>\n",
       "</table>\n",
       "</div>"
      ],
      "text/plain": [
       "                        station_names        lat        lng   Trip id  \\\n",
       "0  City Hall - 1st St & Washington St  40.737498 -74.031007  15336135   \n",
       "1  City Hall - 1st St & Washington St  40.737498 -74.031007  15337037   \n",
       "2  City Hall - 1st St & Washington St  40.737498 -74.031007  15337050   \n",
       "3  City Hall - 1st St & Washington St  40.737498 -74.031007  15337664   \n",
       "4  City Hall - 1st St & Washington St  40.737498 -74.031007  15339025   \n",
       "\n",
       "            Starttime            Stoptime  Bikeid  Tripduration  \\\n",
       "0 2016-01-01 09:34:00 2016-01-02 10:45:00   73113         90638   \n",
       "1 2016-01-01 19:12:00 2016-01-01 19:26:00   73060           836   \n",
       "2 2016-01-01 19:37:00 2016-01-02 00:09:00   72001         16265   \n",
       "3 2016-01-02 07:23:00 2016-01-02 07:29:00   73206           328   \n",
       "4 2016-01-02 17:38:00 2016-01-02 17:44:00   73052           344   \n",
       "\n",
       "   From station id                   From station name  To station id  \\\n",
       "0           1916.0  City Hall - 1st St & Washington St         1916.0   \n",
       "1           1916.0  City Hall - 1st St & Washington St         1926.0   \n",
       "2           1916.0  City Hall - 1st St & Washington St         1916.0   \n",
       "3           1916.0  City Hall - 1st St & Washington St            NaN   \n",
       "4           1916.0  City Hall - 1st St & Washington St         1926.0   \n",
       "\n",
       "                       To station name  \n",
       "0   City Hall - 1st St & Washington St  \n",
       "1  Lower Madison - Madison St & 1st St  \n",
       "2   City Hall - 1st St & Washington St  \n",
       "3                           BIKE 73206  \n",
       "4  Lower Madison - Madison St & 1st St  "
      ]
     },
     "execution_count": 325,
     "metadata": {},
     "output_type": "execute_result"
    }
   ],
   "source": [
    "data.head()"
   ]
  },
  {
   "cell_type": "code",
   "execution_count": 348,
   "metadata": {},
   "outputs": [],
   "source": [
    "data.to_csv('../data/testing.csv', index=False)"
   ]
  },
  {
   "cell_type": "code",
   "execution_count": 359,
   "metadata": {},
   "outputs": [
    {
     "data": {
      "image/png": "[encoded data removed]",
      "text/plain": [
       "<matplotlib.figure.Figure at 0x12d344f60>"
      ]
     },
     "metadata": {},
     "output_type": "display_data"
    }
   ],
   "source": [
    "data.groupby('station_names')['Trip id'].count().sort_values(ascending = False).plot(kind='bar', \n",
    "                                                                                     figsize=(14,6),\n",
    "                                                                                     title=\"Station Trip Starts\")\n",
    "plt.show()"
   ]
  },
  {
   "cell_type": "code",
   "execution_count": 361,
   "metadata": {},
   "outputs": [],
   "source": [
    "data.index = data.Starttime"
   ]
  },
  {
   "cell_type": "code",
   "execution_count": 371,
   "metadata": {},
   "outputs": [
    {
     "data": {
      "text/plain": [
       "<matplotlib.axes._subplots.AxesSubplot at 0x12fb5e470>"
      ]
     },
     "execution_count": 371,
     "metadata": {},
     "output_type": "execute_result"
    },
    {
     "data": {
      "image/png": "[encoded data removed]",
      "text/plain": [
       "<matplotlib.figure.Figure at 0x11b93e048>"
      ]
     },
     "metadata": {},
     "output_type": "display_data"
    }
   ],
   "source": [
    "data.resample('M')['Trip id'].count().plot(kind='bar',figsize=(14,6),title='Start Trip by month')"
   ]
  },
  {
   "cell_type": "code",
   "execution_count": 373,
   "metadata": {},
   "outputs": [
    {
     "data": {
      "text/plain": [
       "<matplotlib.axes._subplots.AxesSubplot at 0x12a6f9748>"
      ]
     },
     "execution_count": 373,
     "metadata": {},
     "output_type": "execute_result"
    },
    {
     "data": {
      "image/png": "[encoded data removed]",
      "text/plain": [
       "<matplotlib.figure.Figure at 0x12fb40780>"
      ]
     },
     "metadata": {},
     "output_type": "display_data"
    }
   ],
   "source": [
    "data.resample('W')['Trip id'].count().plot(kind='bar',figsize=(14,6),title='Start Trip by week')"
   ]
  },
  {
   "cell_type": "code",
   "execution_count": 380,
   "metadata": {},
   "outputs": [
    {
     "data": {
      "text/plain": [
       "<matplotlib.axes._subplots.AxesSubplot at 0x131bc7898>"
      ]
     },
     "execution_count": 380,
     "metadata": {},
     "output_type": "execute_result"
    },
    {
     "data": {
      "image/png": "[encoded data removed]",
      "text/plain": [
       "<matplotlib.figure.Figure at 0x133d43940>"
      ]
     },
     "metadata": {},
     "output_type": "display_data"
    }
   ],
   "source": [
    "data.resample('Q')['Trip id'].count().plot(kind='bar',title='Start Trips by Quarter',figsize=(10,6))"
   ]
  },
  {
   "cell_type": "code",
   "execution_count": null,
   "metadata": {
    "collapsed": true
   },
   "outputs": [],
   "source": []
  }
 ],
 "metadata": {
  "kernelspec": {
   "display_name": "Python 3",
   "language": "python",
   "name": "python3"
  },
  "language_info": {
   "codemirror_mode": {
    "name": "ipython",
    "version": 3
   },
   "file_extension": ".py",
   "mimetype": "text/x-python",
   "name": "python",
   "nbconvert_exporter": "python",
   "pygments_lexer": "ipython3",
   "version": "3.6.1"
  }
 },
 "nbformat": 4,
 "nbformat_minor": 2
}
